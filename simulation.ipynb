{
 "cells": [
  {
   "cell_type": "markdown",
   "metadata": {},
   "source": [
    "# TRPF Simulator Example"
   ]
  },
  {
   "cell_type": "code",
   "execution_count": 1,
   "metadata": {
    "collapsed": false,
    "scrolled": false
   },
   "outputs": [],
   "source": [
    "# If changes are made to modules, kernel must be restarted\n",
    "import simulator.netlist as nl\n",
    "import simulator.simulator as trpfsim\n",
    "from IPython.display import Image\n"
   ]
  },
  {
   "cell_type": "markdown",
   "metadata": {},
   "source": [
    "## Loading the netlist"
   ]
  },
  {
   "cell_type": "code",
   "execution_count": 2,
   "metadata": {
    "collapsed": false,
    "scrolled": true
   },
   "outputs": [
    {
     "name": "stdout",
     "output_type": "stream",
     "text": [
      "{'trips': ['S1D1', 'S2D2', 'Overall'], 'agents': [200, 200], 'routes': {0: [['s1', 'p', 'q', 'd1'], ['s1', 'm', 'n', 'd1']], 1: [['s2', 'm', 'n', 'd2'], ['s2', 'r', 's', 'd2']]}, 'graph':    node 1 node 2   fft  ddt\n",
      "0      s1      p   0.0  0.0\n",
      "1       p      q  20.0  0.0\n",
      "2       q     d1   0.0  0.0\n",
      "3      s1      m   0.0  0.0\n",
      "4       m      n   0.0  0.1\n",
      "5       n     d1   0.0  0.0\n",
      "6      s2      r   0.0  0.0\n",
      "7       r      s  20.0  0.0\n",
      "8       s     d2   0.0  0.0\n",
      "9      s2      m   0.0  0.0\n",
      "10      m      n   0.0  0.1\n",
      "11      n     d2   0.0  0.0, 'name': 'example', 'optimums': {0: [175, 25], 1: [25, 175]}, 'thresholds': [[5, 20, 50], [10, 20, 50], [15, 20, 50], [10, 10, 50], [10, 20, 50], [10, 30, 50], [10, 20, 25], [10, 20, 50], [10, 20, 75], [10, 20, 50], [10, 20, 50], [10, 20, 50], [10, 20, 50], [10, 20, 50], [10, 20, 50], [10, 20, 50], [10, 20, 50], [10, 20, 50]], 'trpf': {'p': [0.7], 'g': [0.5], 't': [3]}, 'steps': 200, 'weights': [[3, 5, 7], [3, 5, 7], [3, 5, 7], [3, 5, 7], [3, 5, 7], [3, 5, 7], [3, 5, 7], [3, 5, 7], [3, 5, 7], [1, 5, 7], [3, 5, 7], [5, 5, 7], [3, 3, 7], [3, 5, 7], [3, 7, 7], [3, 5, 5], [3, 5, 7], [3, 5, 9]]}\n"
     ]
    }
   ],
   "source": [
    "# The netlist is loaded from the /netlists directory\n",
    "# nl.show('example')\n",
    "properties = nl.load('example')\n",
    "# Draws a network graph from the properties dict\n",
    "nl.draw(properties, 'network.png')\n",
    "Image(filename='network.png')\n",
    "print(properties)"
   ]
  },
  {
   "cell_type": "markdown",
   "metadata": {
    "collapsed": true
   },
   "source": [
    "## Running the simulation"
   ]
  },
  {
   "cell_type": "code",
   "execution_count": 3,
   "metadata": {
    "collapsed": false
   },
   "outputs": [
    {
     "name": "stdout",
     "output_type": "stream",
     "text": [
      "**************************  --------S1D1--------- --------S2D2--------- -------OVERALL-------\n",
      "       weights   G   T   P       mean        std       mean        std       mean        std\n",
      " 5:3|20:5|50:7 0.5   3 0.7   17.39946   0.080154  17.613455   0.080183  17.506458   0.006265\n",
      "10:3|20:5|50:7 0.5   3 0.7  17.450645   0.070155  17.566125   0.055407  17.508385   0.010924\n",
      "15:3|20:5|50:7 0.5   3 0.7  17.649215   0.060587   17.35694   0.058678  17.503077   0.005276\n",
      "10:3|10:5|50:7 0.5   3 0.7  17.100215    0.04945    17.9167   0.050572  17.508458   0.007611\n",
      "10:3|20:5|50:7 0.5   3 0.7    17.6201   0.045682   17.42814    0.04137   17.52412   0.016596\n",
      "10:3|30:5|50:7 0.5   3 0.7  17.679235   0.051221   17.34027   0.056106  17.509753   0.008827\n",
      "10:3|20:5|25:7 0.5   3 0.7  17.302835    0.03546  17.725175   0.033847  17.514005   0.007128\n",
      "10:3|20:5|50:7 0.5   3 0.7   17.32528   0.037492    17.8055   0.052038   17.56539   0.021148\n",
      "10:3|20:5|75:7 0.5   3 0.7  17.749225   0.040284   17.37571   0.078975  17.562467   0.034161\n",
      "10:1|20:5|50:7 0.5   3 0.7   17.48162   0.056661  17.683335   0.057879  17.582477   0.041831\n",
      "10:3|20:5|50:7 0.5   3 0.7  17.518995   0.074978  17.561065    0.04907   17.54003   0.022715\n",
      "10:5|20:5|50:7 0.5   3 0.7   17.86781   0.049829  17.554865   0.044429  17.711338   0.027847\n",
      "10:3|20:3|50:7 0.5   3 0.7  17.283605   0.046561   17.72439   0.043627  17.503997   0.004241\n",
      "10:3|20:5|50:7 0.5   3 0.7   17.61754   0.045432  17.460765   0.049706  17.539152   0.024616\n",
      "10:3|20:7|50:7 0.5   3 0.7  17.508475   0.051431  17.523915   0.055772  17.516195   0.012634\n",
      "10:3|20:5|50:5 0.5   3 0.7   17.64551   0.046627  17.467265   0.055999  17.556387   0.030307\n",
      "10:3|20:5|50:7 0.5   3 0.7   17.70896   0.051465   17.36196   0.042982   17.53546   0.021145\n",
      "10:3|20:5|50:9 0.5   3 0.7  17.720265   0.041215  17.322245    0.04045  17.521255   0.007361\n"
     ]
    }
   ],
   "source": [
    "# The xlsx filename can be set to any string\n",
    "# If filename is None, it defaults to the netlist name prefixed by the ISO datetime\n",
    "# 'show' prints the output to stdout\n",
    "# 'save' determines the the resulting xlsx is saved\n",
    "trpfsim.run(properties, filename=None, show=True, save=False)\n",
    "\n",
    "# After running, the results appear in the /outputs directory"
   ]
  },
  {
   "cell_type": "code",
   "execution_count": null,
   "metadata": {
    "collapsed": true
   },
   "outputs": [],
   "source": []
  }
 ],
 "metadata": {
  "kernelspec": {
   "display_name": "Python 3",
   "language": "python",
   "name": "python3"
  },
  "language_info": {
   "codemirror_mode": {
    "name": "ipython",
    "version": 3
   },
   "file_extension": ".py",
   "mimetype": "text/x-python",
   "name": "python",
   "nbconvert_exporter": "python",
   "pygments_lexer": "ipython3",
   "version": "3.5.2"
  }
 },
 "nbformat": 4,
 "nbformat_minor": 2
}
